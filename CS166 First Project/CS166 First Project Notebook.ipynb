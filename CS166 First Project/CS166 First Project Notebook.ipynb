{
  "nbformat": 4,
  "nbformat_minor": 0,
  "metadata": {
    "colab": {
      "name": "CS166 - Assignment 1",
      "provenance": []
    },
    "kernelspec": {
      "name": "python3",
      "display_name": "Python 3"
    },
    "language_info": {
      "name": "python"
    }
  },
  "cells": [
    {
      "cell_type": "markdown",
      "metadata": {
        "id": "UQJdap9-EHsB"
      },
      "source": [
        "# **CS166 First Project**\n",
        "\n",
        "## Waiting for the Bus"
      ]
    },
    {
      "cell_type": "markdown",
      "metadata": {
        "id": "foOQ4guDEIvh"
      },
      "source": [
        "### **Overview**\n",
        "\n",
        "In this project, I complete the implementation of a bus route simulation. I experiment with different strategies for setting departure times on the bus route and measure how well the different strategies work.\n",
        "\n",
        "The purpose of this assignment is to go through the entire modeling, simulation, and analysis process. Throughout this course, this modelinng-simulation-analysis process will be repeated a few times. This is an opportunity to learn."
      ]
    },
    {
      "cell_type": "markdown",
      "metadata": {
        "id": "rb_vxI_ZGmmn"
      },
      "source": [
        "### **Feedback and Grading**\n",
        "\n",
        "The part of the work that I would like feedback on the most is the descriptive analysis of the comparison between expected analytical results and empirical results. "
      ]
    },
    {
      "cell_type": "markdown",
      "metadata": {
        "id": "EPMjynwQELE5"
      },
      "source": [
        "### **Basic Model (Required)**\n",
        "\n",
        "A circular bus route operates 24 hours per day. The buses on the route allow passengers to embark and disembark at 15 different stops before looping back to the start of the route. At each bus stop, passengers wait until the next bus arrives, get on the bus, and finally get off the bus at their chosen destination. The rate at which passengers join the queue at a bus stop is constant and does not depend on the time of day."
      ]
    },
    {
      "cell_type": "markdown",
      "metadata": {
        "id": "knSX46nSELJn"
      },
      "source": [
        "In queueing theory, we can use an M/G/1 queue as a model to a Bus System where arrivals are Markovian or in other words that come from an exponential distribution.\n",
        "\n",
        "In this scenario the average arrival rate $\\lambda = 1$ which means that the arrival distribution can be expressed in the following way.\n",
        "\n",
        "```\n",
        "average_arrival_rate = 1\n",
        "arrival_distribution = sts.expon(scale=1/average_arrival_rate)\n",
        "```"
      ]
    },
    {
      "cell_type": "markdown",
      "metadata": {
        "id": "Hbio9bZLELN4"
      },
      "source": [
        "We can represent the 15 different stops in the bus route in a list.\n",
        "\n",
        "```\n",
        "bus_stops = [0, 1, 2, 3, 4, 5, 6, 7, 8, 9, 10, 11, 12, 13, 14]\n",
        "```\n",
        "\n",
        "The instructions mention that the passenger chooses uniformly at random a destination that is at most 7 stops away from where they start. An additional assumption is that their destination is at least 1 stop away from where they start because otherwise there is no reason for them to queue. For the sake of this implementation of the simulation, we can also assume that the passenger gets initially assigned to one of the stops uniformly at random.  We represent that in the following way:\n",
        "\n",
        "```\n",
        "initial_bus_stop = random.randint(0,14)\n",
        "destination_bus_stop = (initial_bus_stop + random.randint(1,7)) % 15\n",
        "```\n",
        "\n",
        "An example for a single passenger below:"
      ]
    },
    {
      "cell_type": "code",
      "metadata": {
        "colab": {
          "base_uri": "https://localhost:8080/"
        },
        "id": "Nj9uzMSEEVTR",
        "outputId": "a2991491-781a-4d64-b087-bc3ecb14a8fe"
      },
      "source": [
        "import random\n",
        "initial_bus_stop = random.randint(0,14)\n",
        "destination_bus_stop = (initial_bus_stop + random.randint(1,7)) % 15\n",
        "print(\"The initial bus stop is\", initial_bus_stop, \"and the destination bus stop is\", destination_bus_stop)"
      ],
      "execution_count": null,
      "outputs": [
        {
          "output_type": "stream",
          "name": "stdout",
          "text": [
            "The initial bus stop is 12 and the destination bus stop is 1\n"
          ]
        }
      ]
    },
    {
      "cell_type": "markdown",
      "metadata": {
        "id": "mMnyIrZlEWL6"
      },
      "source": [
        "When a bus stops, the time (in minutes) it takes passengers to disembark is normally distributed with mean $\\mu_{1} = 0.03 \\cdot n$ and standard deviation $\\sigma_{1} = 0.01 \\cdot \\sqrt{n}$ where $n$ is the number of passengers who want to disembark.\n",
        "\n",
        "** We know that the maximum capacity of each bus is 130 passengers, so the maximum number (given a full bus) of people that can disembark is also 130. There exists a possibility that no passenger disembarks which means that at a given stop if the bus has 130 passengers already and no passenger disembarks then no passenger in the queue embarks either. We can also assign the number of people in the bus (currently) and constrain the number of disembarking passengers by that number. We can assume that the number $n$ of passengers who want to disembark is simulated uniformly at random."
      ]
    },
    {
      "cell_type": "code",
      "metadata": {
        "colab": {
          "base_uri": "https://localhost:8080/"
        },
        "id": "4jlHczwtEZE5",
        "outputId": "bcdc9399-171a-44c4-d449-f6937d40fd9d"
      },
      "source": [
        "import numpy as np\n",
        "from math import sqrt\n",
        "\n",
        "# The number of people in the bus in this case will have to be initialized manually\n",
        "number_of_people_in_the_bus = 130\n",
        "\n",
        "number_of_disembarking_passengers = random.randint(0, number_of_people_in_the_bus)\n",
        "number_of_seats_available_before_disembarking = 130 - number_of_people_in_the_bus\n",
        "number_of_seats_available_after_disembarking = number_of_disembarking_passengers + number_of_seats_available_before_disembarking\n",
        "time_to_disembark = np.random.normal(loc=0.03 * number_of_disembarking_passengers, scale=0.01 * sqrt(number_of_disembarking_passengers))\n",
        "\n",
        "print(\"There are\", number_of_people_in_the_bus, \"passengers, so there are\", number_of_seats_available_before_disembarking, \"seats available before disembarking.\")\n",
        "print(\"The time (in minutes) it takes\", number_of_disembarking_passengers, \"passengers to disembark is\", time_to_disembark, \"minutes.\")\n",
        "print(\"There are\", number_of_seats_available_after_disembarking, \"seats available after disembarking takes place.\")"
      ],
      "execution_count": null,
      "outputs": [
        {
          "output_type": "stream",
          "name": "stdout",
          "text": [
            "There are 130 passengers, so there are 0 seats available before disembarking.\n",
            "The time (in minutes) it takes 67 passengers to disembark is 1.9871338570912855 minutes.\n",
            "There are 67 seats available after disembarking takes place.\n"
          ]
        }
      ]
    },
    {
      "cell_type": "markdown",
      "metadata": {
        "id": "NS6-LLBXEayy"
      },
      "source": [
        "After making the calculation for a few of this scenarios, I feel like the mean and standard deviation for the normally distributed time to disembark might be unrealistic. However, I will keep it as it is for sake of the simulation. \n",
        "\n",
        "For example, the time it takes 20 passengers to disembark is about 30 seconds which is not realistic."
      ]
    },
    {
      "cell_type": "markdown",
      "metadata": {
        "id": "38bCqfxhELRj"
      },
      "source": [
        "The time it takes passengers in the queue to get on the bus is also normally distributed with mean $\\mu_{2} = 0.05 \\cdot n$ and standard deviation $\\sigma_{2} = 0.01\\cdot \\sqrt{n}$ where $n$ can be one of two options: it is either the number of seats available in the bus (when there are more people in the queue vs seats available in the bus) or it is the number of people in the queu (when there are enough seats available in the bus). Aditionally, no passengers can embark while other passengers are still disembarking which means that the total time to \"embark\" for the people in the queue would be the time it takes for the passengers to disembark plus the time it takes them to embark."
      ]
    },
    {
      "cell_type": "code",
      "metadata": {
        "colab": {
          "base_uri": "https://localhost:8080/"
        },
        "id": "iGLzprdVEgbB",
        "outputId": "14fb3e9f-c36b-49f0-8f65-f33f4d7f7898"
      },
      "source": [
        "# The number of people in the queue in this case will have to be initialized manually\n",
        "number_of_people_in_the_queue = 35\n",
        "\n",
        "if number_of_seats_available_after_disembarking < number_of_people_in_the_queue:\n",
        "    number_of_embarking_passengers = number_of_seats_available_after_disembarking\n",
        "else:\n",
        "    number_of_embarking_passengers = number_of_people_in_the_queue\n",
        "\n",
        "time_to_embark = np.random.normal(loc=0.05 * number_of_embarking_passengers, scale=0.01 * sqrt(number_of_embarking_passengers))\n",
        "total_time_to_embark = time_to_embark + time_to_disembark\n",
        "\n",
        "print(\"The time it takes for\", number_of_embarking_passengers, \"passengers to embark is\", time_to_embark, \"minutes.\")\n",
        "print(\"However, passengers in the queue have to wait\", time_to_disembark, \"minutes before they can embark.\")\n",
        "print(\"So, in total, the time it takes for\", number_of_embarking_passengers, \"passengers to embark is\", total_time_to_embark, \"minutes.\")"
      ],
      "execution_count": null,
      "outputs": [
        {
          "output_type": "stream",
          "name": "stdout",
          "text": [
            "The time it takes for 35 passengers to embark is 1.7860699763052845 minutes.\n",
            "However, passengers in the queue have to wait 1.9871338570912855 minutes before they can embark.\n",
            "So, in total, the time it takes for 35 passengers to embark is 3.77320383339657 minutes.\n"
          ]
        }
      ]
    },
    {
      "cell_type": "markdown",
      "metadata": {
        "id": "bbRdgpQ-Ejwx"
      },
      "source": [
        "Similarly to disembarking time, after making the calculation for a few of this scenarios, the mean and standard deviation for the normally distributed time to embark is a bit unrealistic. However, I will keep it as it is for sake of the simulation. \n",
        "\n",
        "For example, the time it takes 8 passengers to embark is about 20 seconds (without considering the time they have to wait for passengers to disembark)."
      ]
    },
    {
      "cell_type": "markdown",
      "metadata": {
        "id": "OC8pYxVzEnD4"
      },
      "source": [
        "The maximum capacity of each bus is 130 passengers. If the bus is full, no more passengers can embark and they have to wait for the next bus to arrive."
      ]
    },
    {
      "cell_type": "markdown",
      "metadata": {
        "id": "JwaamoTkEn25"
      },
      "source": [
        "The travel time of the bus between consecutive bus stops follows a normal distribution with parameters $\\mu_{3} = 2$ minutes and $\\sigma_{3} = 0.5$ minutes. "
      ]
    },
    {
      "cell_type": "code",
      "metadata": {
        "colab": {
          "base_uri": "https://localhost:8080/"
        },
        "id": "rv7sntUEEqUB",
        "outputId": "79b05d1a-6ae6-4c19-91a1-ee1c45b8f523"
      },
      "source": [
        "travel_time_between_bus_stops = np.random.normal(loc=2, scale=0.5)\n",
        "print(\"The travel time between bus stops is\", travel_time_between_bus_stops)"
      ],
      "execution_count": null,
      "outputs": [
        {
          "output_type": "stream",
          "name": "stdout",
          "text": [
            "The travel time between bus stops is 2.357937475047993\n"
          ]
        }
      ]
    },
    {
      "cell_type": "markdown",
      "metadata": {
        "id": "kZGDlJ0uEtRI"
      },
      "source": [
        "So, the average service rate would include the travel time, the time for disembarking, and the time of embarking."
      ]
    },
    {
      "cell_type": "code",
      "metadata": {
        "colab": {
          "base_uri": "https://localhost:8080/"
        },
        "id": "jT53VySJEuU4",
        "outputId": "e1319654-2a24-419e-bfb6-a8f62c5b8b2d"
      },
      "source": [
        "average_service_time = travel_time_between_bus_stops + total_time_to_embark\n",
        "print(\"The average service time (amount of time taken for passenger in the next bus stop to embark) is\", average_service_time)"
      ],
      "execution_count": null,
      "outputs": [
        {
          "output_type": "stream",
          "name": "stdout",
          "text": [
            "The average service time (amount of time taken for passenger in the next bus stop to embark) is 6.131141308444564\n"
          ]
        }
      ]
    },
    {
      "cell_type": "markdown",
      "metadata": {
        "id": "3VYwlu2lEwQL"
      },
      "source": [
        "Considering the basic model above, we can calculate the average passenger waiting time for a bus system followin M/G/1 queues propertie. Waiting time here is the duration between a passenger joining a queue at a bus stop and when the passenger gets on the bus.\n",
        "\n",
        "The average service time $\\tau = \\frac{1}{\\lambda} = 1$\n",
        "\n",
        "The variance of service is "
      ]
    },
    {
      "cell_type": "code",
      "metadata": {
        "id": "eRstfBYPE0PI"
      },
      "source": [
        "import heapq\n",
        "\n",
        "class Event:\n",
        "    '''\n",
        "    Store the properties of one event in the Schedule class defined below. Each\n",
        "    event has a time at which it needs to run, a function to call when running\n",
        "    the event, along with the arguments and keyword arguments to pass to that\n",
        "    function.\n",
        "    '''\n",
        "    def __init__(self, timestamp, function, *args, **kwargs):\n",
        "        self.timestamp = timestamp\n",
        "        self.function = function\n",
        "        self.args = args\n",
        "        self.kwargs = kwargs\n",
        "\n",
        "    def __lt__(self, other):\n",
        "        '''\n",
        "        This overloads the less-than operator in Python. We need it so the\n",
        "        priority queue knows how to compare two events. We want events with\n",
        "        earlier (smaller) times to go first.\n",
        "        '''\n",
        "        return self.timestamp < other.timestamp\n",
        "\n",
        "    def run(self, schedule):\n",
        "        '''\n",
        "        Run an event by calling the function with its arguments and keyword\n",
        "        arguments. The first argument to any event function is always the\n",
        "        schedule in which events are being tracked. The schedule object can be\n",
        "        used to add new events to the priority queue.\n",
        "        '''\n",
        "        self.function(schedule, *self.args, **self.kwargs)\n",
        "\n",
        "\n",
        "class Schedule:\n",
        "    '''\n",
        "    Implement an event schedule using a priority queue. You can add events and\n",
        "    run the next event.\n",
        "    \n",
        "    The `now` attribute contains the time at which the last event was run.\n",
        "    '''\n",
        "    \n",
        "    def __init__(self):\n",
        "        self.now = 0  # Keep track of the current simulation time\n",
        "        self.priority_queue = []  # The priority queue of events to run\n",
        "    \n",
        "    def add_event_at(self, timestamp, function, *args, **kwargs):\n",
        "        # Add an event to the schedule at a particular point in time.\n",
        "        heapq.heappush(\n",
        "            self.priority_queue,\n",
        "            Event(timestamp, function, *args, **kwargs))\n",
        "    \n",
        "    def add_event_after(self, interval, function, *args, **kwargs):\n",
        "        # Add an event to the schedule after a specified time interval.\n",
        "        self.add_event_at(self.now + interval, function, *args, **kwargs)\n",
        "    \n",
        "    def next_event_time(self):\n",
        "        return self.priority_queue[0].timestamp\n",
        "\n",
        "    def run_next_event(self):\n",
        "        # Get the next event from the priority queue and run it.\n",
        "        event = heapq.heappop(self.priority_queue)\n",
        "        self.now = event.timestamp\n",
        "        event.run(self)\n",
        "        \n",
        "    def __repr__(self):\n",
        "        return (\n",
        "            f'Schedule() at time {self.now} ' +\n",
        "            f'with {len(self.priority_queue)} events in the queue')\n",
        "    \n",
        "    def print_events(self):\n",
        "        print(repr(self))\n",
        "        for event in sorted(self.priority_queue):\n",
        "            print(f'   {event.timestamp}: {event.function.__name__}')"
      ],
      "execution_count": null,
      "outputs": []
    },
    {
      "cell_type": "code",
      "metadata": {
        "id": "H1kbOvBnE04p"
      },
      "source": [
        "class Queue:\n",
        "    def __init__(self, service_distribution):\n",
        "        self.service_distribution = service_distribution\n",
        "        # We start with an empty queue and the server not busy\n",
        "        self.people_in_queue = 0\n",
        "        self.people_being_served = 0\n",
        "\n",
        "    def add_customer(self, schedule):\n",
        "        # Add the customer to the queue\n",
        "        self.people_in_queue += 1\n",
        "        if self.people_being_served < 1:\n",
        "            # This customer can be served immediately\n",
        "            schedule.add_event_after(0, self.start_serving_customer)\n",
        "            \n",
        "    def start_serving_customer(self, schedule):\n",
        "        # Move the customer from the queue to a server\n",
        "        self.people_in_queue -= 1\n",
        "        self.people_being_served += 1\n",
        "        # Schedule when the server will be done with the customer\n",
        "        schedule.add_event_after(\n",
        "            self.service_distribution.rvs(),\n",
        "            self.finish_serving_customer)\n",
        "            \n",
        "    def finish_serving_customer(self, schedule):\n",
        "        # Remove the customer from the server\n",
        "        self.people_being_served -= 1\n",
        "        if self.people_in_queue > 0:\n",
        "            # There are more people in the queue so serve the next customer\n",
        "            schedule.add_event_after(0, self.start_serving_customer)\n",
        "\n",
        "\n",
        "class BusSystem:\n",
        "    \n",
        "    def __init__(self, arrival_distribution, service_distribution):\n",
        "        self.queue = Queue(service_distribution)\n",
        "        self.arrival_distribution = arrival_distribution\n",
        "\n",
        "    def add_customer(self, schedule):\n",
        "        # Add this customer to the queue\n",
        "        self.queue.add_customer(schedule)\n",
        "        # Schedule when to add another customer\n",
        "        schedule.add_event_after(\n",
        "            self.arrival_distribution.rvs(),\n",
        "            self.add_customer)\n",
        "\n",
        "    def run(self, schedule):\n",
        "        # Schedule when the first customer arrives\n",
        "        schedule.add_event_after(\n",
        "            self.arrival_distribution.rvs(),\n",
        "            self.add_customer)\n",
        "        \n",
        "\n",
        "def run_simulation(arrival_distribution, service_distribution, run_until):\n",
        "    schedule = Schedule()\n",
        "    bus_system = BusSystem(arrival_distribution, service_distribution)\n",
        "    bus_system.run(schedule)\n",
        "    while schedule.next_event_time() < run_until:\n",
        "        schedule.run_next_event()\n",
        "    return bus_system"
      ],
      "execution_count": null,
      "outputs": []
    },
    {
      "cell_type": "code",
      "metadata": {
        "id": "LWVG3cI9E5ay"
      },
      "source": [
        "service_time_list = []\n",
        "total_time_spent = []\n",
        "\n",
        "for i in range(10000):\n",
        "    # The number of people in the bus in this case will be initialized randomly in every iteration\n",
        "    number_of_people_in_the_bus = random.randint(0, 130)\n",
        "\n",
        "    number_of_disembarking_passengers = random.randint(0, number_of_people_in_the_bus)\n",
        "    number_of_seats_available_before_disembarking = 130 - number_of_people_in_the_bus\n",
        "    number_of_seats_available_after_disembarking = number_of_disembarking_passengers + number_of_seats_available_before_disembarking\n",
        "    time_to_disembark = np.random.normal(loc=0.03 * number_of_disembarking_passengers, scale=0.01 * sqrt(number_of_disembarking_passengers))\n",
        "\n",
        "    # The number of people in the queue in this case will have to be initialized randomly \n",
        "    # Since the arrival rate to the queue is relatively low and considering a system where \n",
        "    # there is 15 buses; the passengers in the queue will wait approx. 2 min for bus travel time\n",
        "    # and relatively less time for disembark and embarking time. In every iteration, the\n",
        "    # number of people in the queue will be somewhere between 0, 1, 2, 3, and 4\n",
        "    number_of_people_in_the_queue = random.randint(0, 2)\n",
        "\n",
        "    if number_of_seats_available_after_disembarking < number_of_people_in_the_queue:\n",
        "        number_of_embarking_passengers = number_of_seats_available_after_disembarking\n",
        "    else:\n",
        "        number_of_embarking_passengers = number_of_people_in_the_queue\n",
        "\n",
        "    time_to_embark = np.random.normal(loc=0.05 * number_of_embarking_passengers, scale=0.01 * sqrt(number_of_embarking_passengers))\n",
        "    total_time_to_embark = time_to_embark + time_to_disembark\n",
        "\n",
        "    travel_time_between_bus_stops = np.random.normal(loc=2, scale=0.5)\n",
        "    average_service_time = travel_time_between_bus_stops + time_to_disembark\n",
        "    total_time_to_queue = travel_time_between_bus_stops + total_time_to_embark\n",
        "    service_time_list.append(average_service_time)\n",
        "    total_time_spent.append(total_time_to_queue)"
      ],
      "execution_count": null,
      "outputs": []
    },
    {
      "cell_type": "code",
      "metadata": {
        "id": "Kh0f1Bk-E6N-"
      },
      "source": [
        "import statistics\n",
        "import matplotlib.pyplot as plt\n",
        "mu = statistics.mean(service_time_list)"
      ],
      "execution_count": null,
      "outputs": []
    },
    {
      "cell_type": "code",
      "metadata": {
        "id": "9tO88kwDE8WL"
      },
      "source": [
        "sigma_stdev = statistics.stdev(service_time_list)"
      ],
      "execution_count": null,
      "outputs": []
    },
    {
      "cell_type": "code",
      "metadata": {
        "colab": {
          "base_uri": "https://localhost:8080/",
          "height": 295
        },
        "id": "9LViZc9ME-IB",
        "outputId": "b6ae2e0b-85d4-43e6-d852-b045fe179719"
      },
      "source": [
        "# the histogram of the data\n",
        "n, bins, patches = plt.hist(service_time_list, 50, density=False, facecolor='g', alpha=0.75)\n",
        "\n",
        "plt.xlabel('Time (in minutes)')\n",
        "plt.ylabel('Frequency')\n",
        "plt.title('Histogram of Service Time')\n",
        "plt.grid(True)\n",
        "plt.show()"
      ],
      "execution_count": null,
      "outputs": [
        {
          "output_type": "display_data",
          "data": {
            "image/png": "[encoded data removed]",
            "text/plain": [
              "<Figure size 432x288 with 1 Axes>"
            ]
          },
          "metadata": {
            "needs_background": "light"
          }
        }
      ]
    },
    {
      "cell_type": "code",
      "metadata": {
        "colab": {
          "base_uri": "https://localhost:8080/",
          "height": 295
        },
        "id": "XBd5yNDUE_2S",
        "outputId": "e46e8c48-4afc-4bb1-a409-222a9ea04490"
      },
      "source": [
        "# the histogram of the data\n",
        "n, bins, patches = plt.hist(total_time_spent, 50, density=False, facecolor='orange', alpha=0.75)\n",
        "\n",
        "plt.xlabel('Time (in minutes)')\n",
        "plt.ylabel('Frequency')\n",
        "plt.title('Histogram of Total Time Spent in System')\n",
        "plt.grid(True)\n",
        "plt.show()"
      ],
      "execution_count": null,
      "outputs": [
        {
          "output_type": "display_data",
          "data": {
            "image/png": "[encoded data removed]",
            "text/plain": [
              "<Figure size 432x288 with 1 Axes>"
            ]
          },
          "metadata": {
            "needs_background": "light"
          }
        }
      ]
    },
    {
      "cell_type": "markdown",
      "metadata": {
        "id": "ytDwvE5YFB5J"
      },
      "source": [
        "Figure. The average waiting time in queueing theory means that in this scenario the passenger waits for the bus to arrive and for passengers to disembark. The time spent embarking is the time being served. This represents the total time spent in the system which also includes serving time. "
      ]
    },
    {
      "cell_type": "code",
      "metadata": {
        "colab": {
          "base_uri": "https://localhost:8080/"
        },
        "id": "Ld4DB1jNFC4k",
        "outputId": "357716a0-7963-46b9-b29a-94f113b18e1d"
      },
      "source": [
        "# Run a short test with an M/M/1 queue\n",
        "import scipy.stats as sts\n",
        "import numpy as np\n",
        "import matplotlib.pyplot as plt\n",
        "from tqdm import tqdm\n",
        "\n",
        "average_arrival_rate = 1\n",
        "arrival_distribution = sts.expon(scale=1/average_arrival_rate)\n",
        "\n",
        "distribution_time_to_disembark = sts.norm(loc=0.03 * number_of_disembarking_passengers, scale=0.01 * sqrt(number_of_disembarking_passengers))\n",
        "distribution_time_to_embark = sts.norm(loc=0.05 * number_of_embarking_passengers, scale=0.01 * sqrt(number_of_embarking_passengers))\n",
        "distribution_travel_time_between_bus_stops = sts.norm(loc=2, scale=0.5)\n",
        "\n",
        "tau = 1/mu\n",
        "sigma = sigma_stdev\n",
        "service_distribution = sts.norm(loc=tau, scale=sigma)\n",
        "\n",
        "# service_distribution = sts.expon(scale=1/1)\n",
        "bus_system = run_simulation(arrival_distribution, service_distribution, run_until=100)\n",
        "print(f'There is/are {bus_system.queue.people_in_queue} people in the queue')"
      ],
      "execution_count": null,
      "outputs": [
        {
          "output_type": "stream",
          "name": "stdout",
          "text": [
            "There is/are 2 people in the queue\n"
          ]
        }
      ]
    },
    {
      "cell_type": "markdown",
      "metadata": {
        "id": "YjNNCq_aEkcB"
      },
      "source": [
        "At equilibrium, the values such as the waiting time average to total amount a customer spends in the queue, so that would actually only include the bus travel time (passenger waiting for the bus) and the time it takes for current passengers to disembark. \n",
        "\n",
        "The waiting time for M/G/1 queues follows \n",
        "\n",
        "$$\\frac{\\rho \\cdot \\tau}{2\\cdot (1-\\rho)} \\cdot \\Bigg( 1+\\frac{\\sigma^2}{\\tau^2} \\Bigg)$$\n",
        "\n",
        "where tau and sigma squared are the mean and variance of the servie time and not the rate distribution. From above we got that tau is 1 / mu and the variance sigma squared is `sigma_stdev ` squared."
      ]
    },
    {
      "cell_type": "code",
      "metadata": {
        "colab": {
          "base_uri": "https://localhost:8080/"
        },
        "id": "gVJF570xFHWD",
        "outputId": "a7e98116-e905-4e30-b4d4-fbf048ad56b1"
      },
      "source": [
        "tau_equilibrium = 1 / mu\n",
        "variance_equilibrium = sigma_stdev ** 2\n",
        "rho_equilibrium = tau_equilibrium # this gets multiplied by lambda which is 1\n",
        "\n",
        "average_waiting_time = (rho_equilibrium * tau_equilibrium) / (2 * (1 - rho_equilibrium)) * (1 + (variance_equilibrium/tau_equilibrium**2))\n",
        "print(\"The average waiting time is\", average_waiting_time, \"minutes\")"
      ],
      "execution_count": null,
      "outputs": [
        {
          "output_type": "stream",
          "name": "stdout",
          "text": [
            "The average waiting time is 0.8386603266701833 minutes\n"
          ]
        }
      ]
    },
    {
      "cell_type": "code",
      "metadata": {
        "id": "M4-iDSerFK8K"
      },
      "source": [
        "def run_experiment(arrival_rate_list, service_time_dist, run_until, num_trials):\n",
        "    '''\n",
        "    Run an experiment with different arrival rates for an M/G/1 queue. By\n",
        "    setting the service time distribution appropriately, you can also simulate\n",
        "    M/D/1 and M/M/1 queues.\n",
        "    '''\n",
        "    \n",
        "    # We record only the mean and standard error of the mean for each experiment\n",
        "    results_mean = []\n",
        "    results_std_err = []\n",
        "\n",
        "    for arrival_rate in tqdm(arrival_rate_list):\n",
        "        arrival_distribution = sts.expon(scale=1/arrival_rate)\n",
        "        queue_lengths = []\n",
        "        for trial in range(num_trials):\n",
        "            bus_system = run_simulation(\n",
        "                arrival_distribution, service_time_dist, run_until)\n",
        "            queue_lengths.append(bus_system.queue.people_in_queue)\n",
        "        results_mean.append(np.mean(queue_lengths))\n",
        "        results_std_err.append(sts.sem(queue_lengths))\n",
        "        \n",
        "    # Convert lists to arrays so we can easily add, subtract, and multiply them\n",
        "    results_mean = np.array(results_mean)\n",
        "    results_std_err = np.array(results_std_err)\n",
        "    \n",
        "    return results_mean, results_std_err\n",
        "\n",
        "\n",
        "def make_error_plot(queue_type, rho, mean, std_err, theoretical_function):\n",
        "    '''\n",
        "    Plot the empirical mean and 95% confidence interval of the mean of the queue\n",
        "    length. Also plot the theoretical value for the average queue length using the\n",
        "    supplied theoretical function (a function of rho).\n",
        "    '''\n",
        "    \n",
        "    plt.figure(figsize=(8, 6))\n",
        "    plt.title(f'Average queue length for an {queue_type} queue')\n",
        "    plt.xlabel('utilization ρ')\n",
        "    plt.ylabel('average queue length')\n",
        "\n",
        "    plt.errorbar(\n",
        "        rho, mean, 1.96 * std_err,\n",
        "        color='black', marker='o', capsize=5, linestyle='--', linewidth=1,\n",
        "        label='empirical')\n",
        "\n",
        "    plt.plot(\n",
        "        rho, theoretical_function(rho),\n",
        "        color='red', marker='o', linestyle='--', linewidth=1,\n",
        "        label='theoretical')\n",
        "\n",
        "    plt.legend()\n",
        "    plt.show()"
      ],
      "execution_count": null,
      "outputs": []
    },
    {
      "cell_type": "code",
      "metadata": {
        "colab": {
          "base_uri": "https://localhost:8080/"
        },
        "id": "UQdQ67nqFNE6",
        "outputId": "7433b705-76cc-4009-95a2-a4b4834389d5"
      },
      "source": [
        "# Run the M/G/1 queue experiment\n",
        "\n",
        "tau = 1/mu\n",
        "sigma = sigma_stdev\n",
        "run_until = 300\n",
        "num_trials = 100\n",
        "service_distribution = sts.norm(loc=tau, scale=sigma)\n",
        "arrival_rate_list = np.array([0.5, 0.6, 0.7, 0.8, 0.9, 0.95])\n",
        "\n",
        "np.random.seed(123)\n",
        "mg1_mean, mg1_std_err = run_experiment(arrival_rate_list, service_distribution, run_until, num_trials)\n",
        "print('\\nM/G/1 experiment complete')"
      ],
      "execution_count": null,
      "outputs": [
        {
          "output_type": "stream",
          "name": "stderr",
          "text": [
            "100%|██████████| 6/6 [00:19<00:00,  3.28s/it]"
          ]
        },
        {
          "output_type": "stream",
          "name": "stdout",
          "text": [
            "\n",
            "M/G/1 experiment complete\n"
          ]
        },
        {
          "output_type": "stream",
          "name": "stderr",
          "text": [
            "\n"
          ]
        }
      ]
    },
    {
      "cell_type": "code",
      "metadata": {
        "colab": {
          "base_uri": "https://localhost:8080/",
          "height": 404
        },
        "id": "B5g6M0ciFPT8",
        "outputId": "5d943658-c457-456f-f789-db34cd51ca53"
      },
      "source": [
        "# Plot the M/G/1 results\n",
        "\n",
        "def theoretical_mg1(rho):\n",
        "    return rho**2 / 2 / (1-rho) * (1 + sigma**2 / tau**2)\n",
        "\n",
        "rho = arrival_rate_list * tau\n",
        "make_error_plot('M/G/1', rho, mg1_mean, mg1_std_err, theoretical_mg1)"
      ],
      "execution_count": null,
      "outputs": [
        {
          "output_type": "display_data",
          "data": {
            "image/png": "[encoded data removed]",
            "text/plain": [
              "<Figure size 576x432 with 1 Axes>"
            ]
          },
          "metadata": {
            "needs_background": "light"
          }
        }
      ]
    },
    {
      "cell_type": "markdown",
      "metadata": {
        "id": "k-V1L7TRFSIq"
      },
      "source": [
        "Figure. The average queue length in this scenario comparing analytical results and empirical results. Reveals the average queue lenght as the utilization $\\rho$ increases. The Bus System uses M/G/1 queue to determine the properties of the different components of the simulation."
      ]
    }
  ]
}