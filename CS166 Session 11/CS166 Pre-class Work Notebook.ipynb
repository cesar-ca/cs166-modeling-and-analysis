{
  "nbformat": 4,
  "nbformat_minor": 0,
  "metadata": {
    "colab": {
      "name": "CS166 Session 11 Pre-class Work",
      "provenance": []
    },
    "kernelspec": {
      "name": "python3",
      "display_name": "Python 3"
    },
    "language_info": {
      "name": "python"
    }
  },
  "cells": [
    {
      "cell_type": "markdown",
      "metadata": {
        "id": "M5oPJJ9IUicy"
      },
      "source": [
        "Pre-class work\n",
        "\n",
        "Sampling bias for bus waiting times\n",
        "\n",
        "Suppose the interarrival time for a city bus has an exponential distribution with parameter $1/λ$. A passenger arrives at a uniformly random time and records the time until the next bus arrives. What is the expected waiting time? Use a simulation to get an answer. Is the answer surprising? Now suppose instead that the interarrival time is $U(0, 2λ)$. How does this change the situation? (Notice that the expected interarrival time is $λ$ in both cases.)\n",
        "\n",
        "Note that there are 2 common, equivalent parameterizations of the exponential distribution.\n",
        "\n",
        "○ Exponential $(x | λ) = λ e^{–λx}$. This is used in Shonkwiler & Mendivil.\n",
        "\n",
        "○ Exponential $(x | β) = β^{–1} e^{–x / β}$. This is used in NumPy and SciPy. So if you import NumPy and generate exponentially distributed random values using `numpy.random.exponential(beta)`, you should use $β = λ^{–1}$.\n",
        "\n",
        "This is an example of a difficult to compute value (the expected waiting time under two different distributions) with a counterintuitive result that can be simulated fairly easily.\n",
        "\n",
        "https://colab.research.google.com/drive/17ip2phG8d02mYDuwKFtnsQcYXXGnEShE?usp=sharing"
      ]
    },
    {
      "cell_type": "markdown",
      "metadata": {
        "id": "dsy_DIZq6vf6"
      },
      "source": [
        ""
      ]
    },
    {
      "cell_type": "code",
      "metadata": {
        "id": "7GXLL3t56vrb"
      },
      "source": [
        "import numpy as np\n",
        "import scipy.stats as sts\n",
        "import matplotlib.pyplot as plt"
      ],
      "execution_count": 1,
      "outputs": []
    },
    {
      "cell_type": "code",
      "metadata": {
        "colab": {
          "base_uri": "https://localhost:8080/",
          "height": 282
        },
        "id": "5OJyWWTJWbJ4",
        "outputId": "5f03443c-bfb7-47f9-f5df-85a8b48292c2"
      },
      "source": [
        "# interrarival time, exponential\n",
        "\n",
        "trials = 100000  \n",
        "\n",
        "# wait time for passenger\n",
        "wait_times = []\n",
        "\n",
        "for _ in range(trials):\n",
        "    # uniformly at randome time\n",
        "    passenger_arrival_time = np.random.uniform(0, 100)\n",
        "\n",
        "    # interrarival time is exponential\n",
        "    interarrival_times = np.random.exponential(1, size=1000)\n",
        "\n",
        "    # to record time for next bus arriving\n",
        "    bus_arrival_times = np.cumsum(interarrival_times)\n",
        "\n",
        "    # obtaining the bus arrival time for the passenger arrival time\n",
        "    index = bus_arrival_times.searchsorted(passenger_arrival_time)\n",
        "\n",
        "    # time waiting is appended to wait times\n",
        "    wait_times.append(bus_arrival_times[index] - passenger_arrival_time)\n",
        "\n",
        "print('Expected passenger wait time:', np.mean(wait_times))\n",
        "plt.hist(wait_times, bins=50, density=True)\n",
        "x = np.linspace(0, max(wait_times))\n",
        "plt.plot(x, sts.expon.pdf(x, scale=1/1), 'r-')\n",
        "plt.show()"
      ],
      "execution_count": 2,
      "outputs": [
        {
          "output_type": "stream",
          "name": "stdout",
          "text": [
            "Expected passenger wait time: 1.0012822554906184\n"
          ]
        },
        {
          "output_type": "display_data",
          "data": {
            "image/png": "[encoded data removed]",
            "text/plain": [
              "<Figure size 432x288 with 1 Axes>"
            ]
          },
          "metadata": {
            "needs_background": "light"
          }
        }
      ]
    },
    {
      "cell_type": "code",
      "metadata": {
        "colab": {
          "base_uri": "https://localhost:8080/",
          "height": 282
        },
        "id": "XypXgWd7WbMk",
        "outputId": "dc19d574-a29b-4629-bedb-6078c2b928ce"
      },
      "source": [
        "# interrarival time, uniform\n",
        "\n",
        "trials = 100000 \n",
        "\n",
        "wait_times = []\n",
        "\n",
        "for _ in range(trials):\n",
        "    # uniformly at random time\n",
        "    passenger_arrival_time = np.random.uniform(0, 100)\n",
        "    \n",
        "    # interrarival time uniformly distributed U(0,2\\lambda) \\lambda = 1\n",
        "    interarrival_times = np.random.uniform(0, 2, size=1000)\n",
        "\n",
        "    # to record time for next bus arriving\n",
        "    bus_arrival_times = np.cumsum(interarrival_times)\n",
        "\n",
        "    # obtaining the bus arrival time for the passenger arrival time\n",
        "    index = bus_arrival_times.searchsorted(passenger_arrival_time)\n",
        "\n",
        "    # time waiting is appended to wait times list\n",
        "    wait_times.append(bus_arrival_times[index] - passenger_arrival_time)\n",
        "\n",
        "# Plot histogram \n",
        "print('Expected passenger wait time:', np.mean(wait_times))\n",
        "plt.hist(wait_times, bins=50, density=True)\n",
        "x = np.linspace(0, 2)\n",
        "plt.plot(x, 1-x/2, 'r-')\n",
        "plt.show()"
      ],
      "execution_count": 3,
      "outputs": [
        {
          "output_type": "stream",
          "name": "stdout",
          "text": [
            "Expected passenger wait time: 0.6661571907984725\n"
          ]
        },
        {
          "output_type": "display_data",
          "data": {
            "image/png": "[encoded data removed]",
            "text/plain": [
              "<Figure size 432x288 with 1 Axes>"
            ]
          },
          "metadata": {
            "needs_background": "light"
          }
        }
      ]
    },
    {
      "cell_type": "markdown",
      "metadata": {
        "id": "KuX_VOG6Wbr2"
      },
      "source": [
        "Retirement benefit projection\n",
        "\n",
        "At age 50 Fannie Mae has \\$150,000 invested and will be investing another \\$10,000 per year until age 70. Each year the investment grows according to an interest rate that is normally distributed with mean 8% and standard deviation 9%. At age 70, Fannie Mae then retires and withdraws \\$65,000 per year until death. Below is given a conditional death probability table. Thus if Fannie Mae lives until age 70, then the probability of dying before age 71 is 0.04979. Simulate this process 1000 times and histogram the amount of money Fannie Mae has at death."
      ]
    },
    {
      "cell_type": "code",
      "metadata": {
        "id": "E00Zjm74hHLg"
      },
      "source": [
        "data = {50: 0.00832, 51 : 0.00911, 52 : 0.00996, 53 : 0.01089, 54 : 0.01190, 55 : 0.01300, 56 : 0.01421, \n",
        "        57: 0.01554, 58 : 0.01700, 59 : 0.01859, 60 : 0.02034, 61 : 0.02224, 62 : 0.02431, 63 : 0.02657, \n",
        "        64: 0.02904, 65 : 0.03175, 66 : 0.03474, 67 : 0.03804, 68 : 0.04168, 69 : 0.04561, 70 : 0.04979, \n",
        "        71: 0.05415, 72 : 0.05865, 73 : 0.06326, 74 : 0.06812, 75 : 0.07337, 76 : 0.07918, 77 : 0.08570, \n",
        "        78: 0.09306, 79 : 0.10119, 80 : 0.10998, 81 : 0.11935, 82 : 0.12917, 83 : 0.13938, 84 : 0.15001, \n",
        "        85: 0.16114, 86 : 0.17282, 87 : 0.18513, 88 : 0.19825, 89 : 0.21246, 90 : 0.22814, 91 : 0.24577, \n",
        "        92: 0.26593, 93 : 0.28930, 94 : 0.31666, 95 : 0.35124, 96 : 0.40056, 97 : 0.48842, 98 : 0.66815, \n",
        "        99: 0.72000, 100: 0.76000, 101: 0.80000, 102: 0.85000, 103: 0.90000, 104: 0.96000, 105: 1.00000}"
      ],
      "execution_count": 4,
      "outputs": []
    },
    {
      "cell_type": "code",
      "metadata": {
        "id": "6eZBe3Twne64"
      },
      "source": [
        "trials = list(range(1, 1000))"
      ],
      "execution_count": 5,
      "outputs": []
    },
    {
      "cell_type": "code",
      "metadata": {
        "id": "IF1vXFwOxApE"
      },
      "source": [
        "years_to_invest = list(range(50,71))"
      ],
      "execution_count": 6,
      "outputs": []
    },
    {
      "cell_type": "code",
      "metadata": {
        "colab": {
          "base_uri": "https://localhost:8080/",
          "height": 278
        },
        "id": "iYGZQjh3gr4y",
        "outputId": "a40dcf19-b48b-4c5d-9135-75d0d56bad02"
      },
      "source": [
        "import numpy as np\n",
        "import matplotlib.pyplot as plt\n",
        "\n",
        "begin_age = 50\n",
        "old_age = 70\n",
        "invested = 150000\n",
        "to_invest = 10000\n",
        "mean = 0.08\n",
        "standard_deviation = 0.09\n",
        "no_trials = 1000\n",
        "withdrawal = 65000\n",
        "years_investing = 20\n",
        "\n",
        "at_death = []\n",
        "for _ in range(no_trials):\n",
        "    # at age 50 Fannie Mae \n",
        "    age = begin_age\n",
        "    # has $150,000 invested\n",
        "    total_invested = invested\n",
        "\n",
        "    # will be investing $10,000 until 70\n",
        "    for year in range(years_investing):\n",
        "        # investment grows at mean 8% and std 9%\n",
        "        growth = np.random.normal(mean, standard_deviation)\n",
        "        total_invested = total_invested * (1 + growth) + to_invest\n",
        "        age += 1\n",
        "\n",
        "    while True:\n",
        "        if np.random.uniform(0, 1) < data[age]:\n",
        "            at_death.append(total_invested)\n",
        "            break\n",
        "        growth = np.random.normal(mean, standard_deviation)\n",
        "        total_invested = total_invested * (1 + growth) - withdrawal\n",
        "        age += 1\n",
        "\n",
        "plt.hist(at_death, bins = 14)\n",
        "plt.show()"
      ],
      "execution_count": 7,
      "outputs": [
        {
          "output_type": "display_data",
          "data": {
            "image/png": "[encoded data removed]",
            "text/plain": [
              "<Figure size 432x288 with 1 Axes>"
            ]
          },
          "metadata": {
            "needs_background": "light"
          }
        }
      ]
    },
    {
      "cell_type": "markdown",
      "metadata": {
        "id": "-y0UUh4hUigQ"
      },
      "source": [
        "Mortality table, probability of dying during the year by age∗\n",
        "\n",
        "age | prob | age | prob | age | prob | age | prob\n",
        "--- | ---- | --- | ---- | --- | ---- | --- | ----\n",
        " 50 | 0.00832 | 64 | 0.02904 | 78 | 0.09306 | 92 | 0.26593 | \n",
        " 51 | 0.00911 | 65 | 0.03175 | 79 | 0.10119 | 93 | 0.28930 | \n",
        " 52 | 0.00996 | 66 | 0.03474 | 80 | 0.10998 | 94 | 0.31666 | \n",
        " 53 | 0.01089 | 67 | 0.03804 | 81 | 0.11935 | 95 | 0.35124 | \n",
        " 54 | 0.01190 | 68 | 0.04168 | 82 | 0.12917 | 96 | 0.40056 | \n",
        " 55 | 0.01300 | 69 | 0.04561 | 83 | 0.13938 | 97 | 0.48842 | \n",
        " 56 | 0.01421 | 70 | 0.04979 | 84 | 0.15001 | 98 | 0.66815 | \n",
        " 57 | 0.01554 | 71 | 0.05415 | 85 | 0.16114 | 99 | 0.72000 | \n",
        " 58 | 0.01700 | 72 | 0.05865 | 86 | 0.17282 | 100| 0.76000 | \n",
        " 59 | 0.01859 | 73 | 0.06326 | 87 | 0.18513 | 101| 0.80000 | \n",
        " 60 | 0.02034 | 74 | 0.06812 | 88 | 0.19825 | 102| 0.85000 | \n",
        " 61 | 0.02224 | 75 | 0.07337 | 89 | 0.21246 | 103| 0.90000 | \n",
        " 62 | 0.02431 | 76 | 0.07918 | 90 | 0.22814 | 104| 0.96000 | \n",
        " 63 | 0.02657 | 77 | 0.08570 | 91 | 0.24577 | 105| 1.0000  | \n"
      ]
    }
  ]
}