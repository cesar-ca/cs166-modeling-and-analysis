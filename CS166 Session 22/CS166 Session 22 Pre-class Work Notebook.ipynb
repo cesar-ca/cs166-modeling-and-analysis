{
  "nbformat": 4,
  "nbformat_minor": 0,
  "metadata": {
    "colab": {
      "name": "CS166 Session 22 - Network metrics and percolation | Pre-class Work",
      "provenance": []
    },
    "kernelspec": {
      "name": "python3",
      "display_name": "Python 3"
    },
    "language_info": {
      "name": "python"
    }
  },
  "cells": [
    {
      "cell_type": "markdown",
      "metadata": {
        "id": "dO04dT0xLM17"
      },
      "source": [
        "# **Percolation**\n",
        "\n",
        "Following the mathematical analysis in the textbook, $n$ is defined as the number of nodes in a network, and $q$ is defined as the probability that a random node from the network is **not** part of the largest connected component (LCC) of the network.\n",
        "\n",
        "The derivation in the textbook shows that $q$ is a solution to the equation\n",
        "\n",
        "\n",
        "$$ q = e^{\\langle k \\rangle(q-1)}  \\tag{1} $$ \n",
        "\n",
        "where $\\langle k \\rangle$ is the average degree of the network.\n",
        "\n",
        "**Question:** Given the information above, what is the theoretical estimate for the number of nodes in the LCC, expressed in terms of the known variables, $n$, $q$, and $⟨k⟩$?\n",
        "\n",
        "**Task:** Plot how the size of the LCC depends on the average degree $⟨k⟩$ by using the theoretical result in $(1)$. This equation does not have a nice analytical solution, so we use a numerical root finder in Scipy to determine the value of $q$ that solves the equation for a given $⟨k⟩$. A root finder\n",
        "computes a numerical solution to an equation of the form $f(x) = 0$, so we need to rewrite $(1)$ as\n",
        "\n",
        "$$ q - e^{\\langle k \\rangle(q-1)} = 0  \\tag{2} $$ \n",
        "\n",
        "We give the expression on the left­hand side to the root finding function. Use the code below to compute $q$ for different values of $⟨k⟩$ in the range $[1, 10]$. Note that $⟨k⟩$ will not necessarily be an integer since it is an **average** degree.\n",
        "\n",
        "Use the value of $q$ to determine the theoretical estimate for the size of the LCC in a network with average degree $⟨k⟩$. Plot your results of how the size of the LCC depends on $⟨k⟩$."
      ]
    },
    {
      "cell_type": "code",
      "metadata": {
        "id": "_iOSnulmXMIF"
      },
      "source": [
        "import numpy as np\n",
        "import random\n",
        "def calculate_q(k):\n",
        "    '''\n",
        "    Use a numerical root finder to determine q from the equation\n",
        "    q = exp(k*(q-1)).\n",
        "    '''\n",
        "    from scipy.optimize import root\n",
        "    return root(lambda q: q - np.exp(k * (q - 1)), 0).x[0]"
      ],
      "execution_count": 1,
      "outputs": []
    },
    {
      "cell_type": "code",
      "metadata": {
        "id": "JvJzYXCpY9pj"
      },
      "source": [
        "list_of_average_k_values = []"
      ],
      "execution_count": 2,
      "outputs": []
    },
    {
      "cell_type": "code",
      "metadata": {
        "id": "pA1WoNFFZCUG"
      },
      "source": [
        "for i in range(1000):\n",
        "    k_value = random.uniform(1,10)\n",
        "    list_of_average_k_values.append(k_value)"
      ],
      "execution_count": 3,
      "outputs": []
    },
    {
      "cell_type": "code",
      "metadata": {
        "id": "S164_7dMZCW3"
      },
      "source": [
        "list_of_average_k_values.sort()"
      ],
      "execution_count": 4,
      "outputs": []
    },
    {
      "cell_type": "code",
      "metadata": {
        "id": "Lxjo3zGhayM0"
      },
      "source": [
        "list_of_calculated_q = []\n",
        "\n",
        "for i in range(1000):\n",
        "    calculate_q_value = calculate_q(list_of_average_k_values[i])\n",
        "    list_of_calculated_q.append(calculate_q_value)"
      ],
      "execution_count": 5,
      "outputs": []
    },
    {
      "cell_type": "code",
      "metadata": {
        "colab": {
          "base_uri": "https://localhost:8080/",
          "height": 299
        },
        "id": "W1r3aSQqajAC",
        "outputId": "948cd691-b0fd-4078-bc07-2f0be3ae1c79"
      },
      "source": [
        "import matplotlib.pyplot as plt\n",
        " \n",
        "# assigning x and y coordinates\n",
        "x = list_of_average_k_values\n",
        "y = list_of_calculated_q\n",
        " \n",
        "# depicting the visualization\n",
        "plt.plot(x, y, color='green')\n",
        "plt.xlabel('Value of $k$ parameter (from 1 - 10)')\n",
        "plt.ylabel('Value of calculated $q$ parameter')\n",
        " \n",
        "# displaying the title\n",
        "plt.title(\"Calculated Value for Probability Parameter\")\n",
        " \n",
        "plt.show()"
      ],
      "execution_count": 6,
      "outputs": [
        {
          "output_type": "display_data",
          "data": {
            "image/png": "[encoded data removed]",
            "text/plain": [
              "<Figure size 432x288 with 1 Axes>"
            ]
          },
          "metadata": {
            "needs_background": "light"
          }
        }
      ]
    },
    {
      "cell_type": "markdown",
      "metadata": {
        "id": "ph8IDEgmnMYh"
      },
      "source": [
        "# **Analysis**\n",
        "\n",
        "From the mathematical equations, $n$ is defined as the number of nodes in a network, and $q$ is defined as the probability that a random node from the network is **not** part of the largest connected component (LCC) of the network.\n",
        "\n",
        "The derivation in the textbook shows that $q$ is a solution to the equation\n",
        "\n",
        "\n",
        "$$ q = e^{\\langle k \\rangle(q-1)}  \\tag{1} $$ \n",
        "\n",
        "where $\\langle k \\rangle$ is the average degree of the network.\n",
        "\n",
        "**Answer:** Given the information above, the theoretical estimate for the number of nodes in the LCC expressed in terms of the known variables takes on the form of an equation the likes of $f(x) = 0$. To find these solutions, we plot the average degree $\\langle k \\rangle$ with the value of $q$ corresponding to finding the numerical root with Scipy. The root finder computes a numerical solution to the equation \n",
        "\n",
        "$$ q - e^{\\langle k \\rangle(q-1)} = 0  \\tag{2} $$ \n",
        "\n",
        "and we compute $q$ for different values of $⟨k⟩$ in the range $[1, 10]$. Since $⟨k⟩$ is the average, we calculate for a large number of real values from 1 to 10. \n",
        "\n",
        "For example;\n",
        "\n",
        "```\n",
        "for i in range(1000):\n",
        "    k_value = random.uniform(1,10)\n",
        "    list_of_average_k_values.append(k_value)\n",
        "```\n",
        "\n",
        "the code aboves, generates a lot of real valued k and then we calculate the q value using the root finder. We notice from the results that as the value of k increases, the value of q decreases."
      ]
    }
  ]
}