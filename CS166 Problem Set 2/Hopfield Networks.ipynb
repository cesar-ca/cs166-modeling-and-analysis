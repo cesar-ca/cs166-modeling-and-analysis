{
  "cells": [
    {
      "cell_type": "code",
      "source": [
        "# importing relevant libraries for hopfield networks and plotting\n",
        "%matplotlib inline\n",
        "import matplotlib.pyplot as plt\n",
        "from neurodynex3.hopfield_network import network, pattern_tools, plot_tools\n",
        "import numpy as np"
      ],
      "metadata": {
        "id": "26z1q4rZdcg9"
      },
      "execution_count": 1,
      "outputs": []
    },
    {
      "cell_type": "code",
      "source": [
        "# the letters we want to store in the hopfield network\n",
        "\n",
        "# only storing 2 patterns\n",
        "letter_list_2_pattern = ['A', 'B'] \n",
        "\n",
        "# storing 3 patterns\n",
        "letter_list_3_pattern = ['A', 'B', 'C']"
      ],
      "metadata": {
        "id": "LF1pxnptskTF"
      },
      "execution_count": 2,
      "outputs": []
    },
    {
      "cell_type": "code",
      "source": [
        "# creting the patterns of the first 3 letter of the alphabet\n",
        "letter_A_purple_green = [[ 1, -1, -1,  1], \n",
        "                         [-1,  1,  1, -1], \n",
        "                         [-1, -1, -1, -1],\n",
        "                         [-1,  1,  1, -1],\n",
        "                         [-1,  1,  1, -1]]\n",
        "\n",
        "letter_B_purple_green = [[-1, -1, -1,  1], \n",
        "                         [-1,  1,  1, -1], \n",
        "                         [-1, -1, -1,  1],\n",
        "                         [-1,  1,  1, -1],\n",
        "                         [-1, -1, -1,  1]]\n",
        "\n",
        "letter_C_purple_green = [[ 1, -1, -1,  1], \n",
        "                         [-1,  1,  1, -1], \n",
        "                         [-1,  1,  1,  1],\n",
        "                         [-1,  1,  1, -1],\n",
        "                         [ 1, -1, -1,  1]]\n",
        "\n",
        "# turn the patterns into numpy arrays \n",
        "letter_A_array = np.array(letter_A_purple_green)\n",
        "letter_B_array = np.array(letter_B_purple_green)\n",
        "letter_C_array = np.array(letter_C_purple_green)\n",
        "\n",
        "# include the patterns in a dictionary \n",
        "alphabet_2_pattern = {'A': letter_A_array, 'B': letter_B_array}\n",
        "alphabet_3_pattern = {'A': letter_A_array, 'B': letter_B_array, 'C': letter_C_array}"
      ],
      "metadata": {
        "id": "FkoopXZFlSZn"
      },
      "execution_count": 3,
      "outputs": []
    },
    {
      "cell_type": "code",
      "source": [
        "# access the first element and get the size which is (5, 4)\n",
        "pattern_shape_green_purple = alphabet_2_pattern['A'].shape\n",
        "print(\"size of the letters: {}. The hopfield network is of the same size\".format(pattern_shape_green_purple))\n",
        "\n",
        "# instance of the HopfieldNetwork class with number of neurons being 20\n",
        "hopfield_net_green_purple = network.HopfieldNetwork(nr_neurons = pattern_shape_green_purple[0] * pattern_shape_green_purple[1])\n",
        "\n",
        "# list using List Comprehension for plotting the patterns\n",
        "pattern_list_green_purple = [alphabet_2_pattern[key] for key in letter_list_2_pattern ]\n",
        "plot_tools.plot_pattern_list(pattern_list_green_purple)"
      ],
      "metadata": {
        "colab": {
          "base_uri": "https://localhost:8080/",
          "height": 254
        },
        "id": "dlwUp0lHm7Ys",
        "outputId": "ab7410b0-ec79-4fe5-a293-3a838f2b20ea"
      },
      "execution_count": 4,
      "outputs": [
        {
          "output_type": "stream",
          "name": "stdout",
          "text": [
            "size of the letters: (5, 4). The hopfield network is of the same size\n"
          ]
        },
        {
          "output_type": "display_data",
          "data": {
            "image/png": "[encoded data removed]",
            "text/plain": [
              "<Figure size 432x288 with 2 Axes>"
            ]
          },
          "metadata": {
            "needs_background": "light"
          }
        }
      ]
    },
    {
      "cell_type": "code",
      "source": [
        "# store patterns in hopfield network\n",
        "hopfield_net_green_purple.store_patterns(pattern_list_green_purple)\n",
        "\n",
        "# include noise in pattern and initialize the network\n",
        "noisy_init_state_green_purple = pattern_tools.get_noisy_copy(alphabet_2_pattern['A'], noise_level=0.2)\n",
        "hopfield_net_green_purple.set_state_from_pattern(noisy_init_state_green_purple)\n",
        "\n",
        "# given the initial state, the network dynamics evolve when run\n",
        "states_green_purple = hopfield_net_green_purple.run_with_monitoring(nr_steps=4)\n",
        "\n",
        "# reshape network state to same shape used to create the pattern\n",
        "states_as_patterns_green_purple = pattern_tools.reshape_patterns(states_green_purple, pattern_list_green_purple[0].shape)\n",
        "\n",
        "# plot of the states of the network\n",
        "plot_tools.plot_state_sequence_and_overlap(states_as_patterns_green_purple, \n",
        "                                           pattern_list_green_purple, reference_idx=0, \n",
        "                                           suptitle=\"Network Dynamics (2 patterns saved)\")"
      ],
      "metadata": {
        "id": "BMvwQvEysxDy",
        "colab": {
          "base_uri": "https://localhost:8080/",
          "height": 311
        },
        "outputId": "c28e1b7a-51ef-474d-d9af-506baa591dd7"
      },
      "execution_count": 5,
      "outputs": [
        {
          "output_type": "stream",
          "name": "stdout",
          "text": [
            "\n"
          ]
        },
        {
          "output_type": "display_data",
          "data": {
            "image/png": "[encoded data removed]",
            "text/plain": [
              "<Figure size 432x288 with 10 Axes>"
            ]
          },
          "metadata": {
            "needs_background": "light"
          }
        }
      ]
    },
    {
      "cell_type": "markdown",
      "source": [
        "When running the Hopfield Network and storing only two patterns, the simulation ends up in the expected pattern after a few steps. This is as expected when storing only 2 of the patterns.\n",
        "\n",
        "In the next simulation, we will aim to see what happens when 3 patterns are stored."
      ],
      "metadata": {
        "id": "B1AvbMPr2uKg"
      }
    },
    {
      "cell_type": "code",
      "source": [
        "# access the first element and get the size which is (5, 4)\n",
        "pattern_shape_green_purple = alphabet_3_pattern['A'].shape\n",
        "print(\"letters are patterns of size: {}. Create a network of corresponding size\".format(pattern_shape_green_purple))\n",
        "\n",
        "# instance of the HopfieldNetwork class with number of neurons being 20\n",
        "hopfield_net_green_purple = network.HopfieldNetwork(nr_neurons = pattern_shape_green_purple[0]*pattern_shape_green_purple[1])\n",
        "\n",
        "# list using List Comprehension for plotting the patterns\n",
        "pattern_list_green_purple = [alphabet_3_pattern[key] for key in letter_list_3_pattern ]\n",
        "plot_tools.plot_pattern_list(pattern_list_green_purple)"
      ],
      "metadata": {
        "colab": {
          "base_uri": "https://localhost:8080/",
          "height": 187
        },
        "id": "U67E4RXjxyZL",
        "outputId": "477eb0a3-79a5-4bdb-d012-113ecb12de60"
      },
      "execution_count": 6,
      "outputs": [
        {
          "output_type": "stream",
          "name": "stdout",
          "text": [
            "letters are patterns of size: (5, 4). Create a network of corresponding size\n"
          ]
        },
        {
          "output_type": "display_data",
          "data": {
            "image/png": "[encoded data removed]",
            "text/plain": [
              "<Figure size 432x288 with 3 Axes>"
            ]
          },
          "metadata": {
            "needs_background": "light"
          }
        }
      ]
    },
    {
      "cell_type": "code",
      "source": [
        "# store patterns in hopfield network\n",
        "hopfield_net_green_purple.store_patterns(pattern_list_green_purple)\n",
        "\n",
        "# include noise in pattern and initialize the network\n",
        "noisy_init_state_green_purple = pattern_tools.get_noisy_copy(alphabet_3_pattern['A'], noise_level=0.2)\n",
        "hopfield_net_green_purple.set_state_from_pattern(noisy_init_state_green_purple)\n",
        "\n",
        "# given the initial state, the network dynamics evolve when run\n",
        "states_green_purple = hopfield_net_green_purple.run_with_monitoring(nr_steps=4)\n",
        "\n",
        "# reshape network state to same shape used to create the pattern\n",
        "states_as_patterns_green_purple = pattern_tools.reshape_patterns(states_green_purple, pattern_list_green_purple[0].shape)\n",
        "\n",
        "# plot of the states of the network\n",
        "plot_tools.plot_state_sequence_and_overlap(states_as_patterns_green_purple, \n",
        "                                           pattern_list_green_purple, reference_idx=0, \n",
        "                                           suptitle=\"Network Dynamics (3 patterns stored)\")"
      ],
      "metadata": {
        "colab": {
          "base_uri": "https://localhost:8080/",
          "height": 311
        },
        "id": "-TbKWVSeyPEd",
        "outputId": "e61a27cc-6680-4488-de78-08b3d1478672"
      },
      "execution_count": 7,
      "outputs": [
        {
          "output_type": "stream",
          "name": "stdout",
          "text": [
            "\n"
          ]
        },
        {
          "output_type": "display_data",
          "data": {
            "image/png": "[encoded data removed]",
            "text/plain": [
              "<Figure size 432x288 with 10 Axes>"
            ]
          },
          "metadata": {
            "needs_background": "light"
          }
        }
      ]
    },
    {
      "cell_type": "markdown",
      "source": [
        "When running the Hopfield Network and storing three patterns, the simulation fails to end up in the expected pattern.\n",
        "\n",
        "In some iterations of the simulation, the network might be able to arrive at the pattern but most of the time it does not."
      ],
      "metadata": {
        "id": "eLjZuj-43Csu"
      }
    }
  ],
  "metadata": {
    "colab": {
      "name": "Hopfield Networks",
      "provenance": []
    },
    "kernelspec": {
      "display_name": "Python 3",
      "language": "python",
      "name": "python3"
    },
    "language_info": {
      "codemirror_mode": {
        "name": "ipython",
        "version": 3
      },
      "file_extension": ".py",
      "mimetype": "text/x-python",
      "name": "python",
      "nbconvert_exporter": "python",
      "pygments_lexer": "ipython3",
      "version": "3.9.2"
    }
  },
  "nbformat": 4,
  "nbformat_minor": 0
}